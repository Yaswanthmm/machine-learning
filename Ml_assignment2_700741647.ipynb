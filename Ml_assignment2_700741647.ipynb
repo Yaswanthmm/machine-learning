{
 "cells": [
  {
   "cell_type": "code",
   "execution_count": null,
   "id": "c918c330",
   "metadata": {},
   "outputs": [],
   "source": [
    "#Murali Yaswanth Motamarri\n",
    "#student_id = 700741647"
   ]
  },
  {
   "cell_type": "code",
   "execution_count": 47,
   "id": "0162d3da",
   "metadata": {},
   "outputs": [
    {
     "name": "stdout",
     "output_type": "stream",
     "text": [
      "* \n",
      "* * \n",
      "* * * \n",
      "* * * * \n",
      "* * * * * \n",
      "* * * * \n",
      "* * * \n",
      "* * \n",
      "* \n"
     ]
    }
   ],
   "source": [
    "#question 1\n",
    "\n",
    "for i in range (1,6):\n",
    "    print(i*'* ') #prints the * for first 5 rows\n",
    "    \n",
    "for k in range (4,0,-1):\n",
    "    print(k*'* ') #prints the * for next 4 rows\n",
    "    "
   ]
  },
  {
   "cell_type": "code",
   "execution_count": 7,
   "id": "3918a237",
   "metadata": {},
   "outputs": [
    {
     "name": "stdout",
     "output_type": "stream",
     "text": [
      "20\n",
      "40\n",
      "60\n",
      "80\n",
      "100\n"
     ]
    }
   ],
   "source": [
    "#question 2\n",
    "my_list = [10, 20, 30, 40, 50, 60, 70, 80, 90, 100]\n",
    "\n",
    "#for loop to check the position of element\n",
    "for i in range(len(my_list)):\n",
    "    if(i%2 != 0):\n",
    "        print(my_list[i]) # prints the element if its index is odd\n",
    "    "
   ]
  },
  {
   "cell_type": "code",
   "execution_count": 12,
   "id": "0bda9903",
   "metadata": {},
   "outputs": [
    {
     "name": "stdout",
     "output_type": "stream",
     "text": [
      "[23, 'Python', 23.98]\n",
      "[<class 'int'>, <class 'str'>, <class 'float'>]\n"
     ]
    }
   ],
   "source": [
    "#question 3\n",
    "x = [23, 'Python', 23.98]\n",
    "print(x) #print statement to print the list\n",
    "l=[]\n",
    "\n",
    "for i in range(len(x)):\n",
    "    a=type(x[i])\n",
    "    l.append(a) #appends the list\n",
    "print(l) #print the datatype of element in list"
   ]
  },
  {
   "cell_type": "code",
   "execution_count": 14,
   "id": "db0ca96e",
   "metadata": {},
   "outputs": [
    {
     "name": "stdout",
     "output_type": "stream",
     "text": [
      "Sample List:  [1, 2, 3, 3, 3, 3, 4, 5]\n",
      "Unique List:  [1, 2, 3, 4, 5]\n"
     ]
    }
   ],
   "source": [
    "#question 4\n",
    "\n",
    "Sample_List = [1,2,3,3,3,3,4,5]\n",
    "print('Sample List: ',Sample_List)  #prints the sample list\n",
    "set1 = set(Sample_List) #convert the list to set\n",
    "Unique_List = list(set1) #convert the set again to the list\n",
    "print('Unique List: ',Unique_List) # print the unique list"
   ]
  },
  {
   "cell_type": "code",
   "execution_count": 23,
   "id": "dce4b4dd",
   "metadata": {},
   "outputs": [
    {
     "name": "stdout",
     "output_type": "stream",
     "text": [
      "No. of Upper-case characters:  3\n",
      "No. of Lower-case characters:  12\n"
     ]
    }
   ],
   "source": [
    "#question 5\n",
    "\n",
    "Input_String = 'The quick Brow Fox'\n",
    "count1 = 0\n",
    "count2 = 0\n",
    "for i in Input_String:\n",
    "    if(i.islower()): #string method to check lower charcter\n",
    "        count1 = count1+1\n",
    "    if(i.isupper()): #string method to check upper charcter\n",
    "        count2 = count2+1 \n",
    "\n",
    "print('No. of Upper-case characters: ', count2 )    \n",
    "print('No. of Lower-case characters: ', count1 )        "
   ]
  }
 ],
 "metadata": {
  "kernelspec": {
   "display_name": "Python 3 (ipykernel)",
   "language": "python",
   "name": "python3"
  },
  "language_info": {
   "codemirror_mode": {
    "name": "ipython",
    "version": 3
   },
   "file_extension": ".py",
   "mimetype": "text/x-python",
   "name": "python",
   "nbconvert_exporter": "python",
   "pygments_lexer": "ipython3",
   "version": "3.10.9"
  }
 },
 "nbformat": 4,
 "nbformat_minor": 5
}
