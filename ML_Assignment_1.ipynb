{
 "cells": [
  {
   "cell_type": "code",
   "execution_count": 11,
   "id": "85638d1e",
   "metadata": {},
   "outputs": [
    {
     "name": "stdout",
     "output_type": "stream",
     "text": [
      "sorted ages:  [19, 19, 20, 22, 24, 24, 24, 25, 25, 26]\n",
      "min age:  19\n",
      "max age:  26\n",
      "New ages:  [19, 19, 20, 22, 24, 24, 24, 25, 25, 26, 19, 26]\n",
      "Median:  24\n",
      "average:  22.75\n",
      "range:  7\n"
     ]
    }
   ],
   "source": [
    "#question 1\n",
    "\n",
    "#i\n",
    "ages = [19, 22, 19, 24, 20, 25, 26, 24, 25, 24]\n",
    "ages.sort()\n",
    "print('sorted ages: ',ages) #Sort the list\n",
    "print('min age: ',min(ages)) #minimum age\n",
    "print('max age: ',max(ages)) #maximum age\n",
    "\n",
    "#ii\n",
    "ages.append(min(ages)) #Add the min age again to the list\n",
    "ages.append(max(ages)) #Add the max age again to the list\n",
    "print('New ages: ',ages) #print ages list\n",
    "\n",
    "#iii\n",
    "n = len(ages) # length of ages\n",
    "if(n%2 == 0):\n",
    "    med = (ages[int((n)/2)] + ages[int((n+1)/2)])/2 #median formula if length is even\n",
    "else:\n",
    "    med = ages[int((n+1)/2)] #median formula if length is odd\n",
    "\n",
    "print('Median: ',int(med)) #print median\n",
    "\n",
    "#iv\n",
    "sum = 0 #initialize sum = 0\n",
    "for i in range(n):\n",
    "    sum = sum + ages[i] #find sum of ages\n",
    "    \n",
    "print('average: ',sum/n) # print average\n",
    "\n",
    "#v\n",
    "r = max(ages) - min(ages) #range of r\n",
    "print('range: ',r)\n"
   ]
  },
  {
   "cell_type": "code",
   "execution_count": 5,
   "id": "f8846661",
   "metadata": {},
   "outputs": [
    {
     "name": "stdout",
     "output_type": "stream",
     "text": [
      "{}\n",
      "dog dictonary:  {'name': 'honey', 'color': 'black', 'breed': 'husky', 'legs': 4, 'age': 10}\n",
      "student dictonary:  {'first_name': 'yaswanth', 'last_name': 'motamarri', 'gender': 'male', 'age': 24, 'marital status': 'none', 'skills': ['python', 'java', 'c#'], 'country': 'India', 'city': 'hyderabad', 'address': '1/23 123rd street 66666'}\n",
      "length of the student dictionary:  9\n",
      "skills in student dictonary:  ['python', 'java', 'c#']\n",
      "data type of skills in student dictonary:  <class 'list'>\n",
      "['python', 'java', 'c#', 'c', 'c++']\n",
      "dict_keys(['first_name', 'last_name', 'gender', 'age', 'marital status', 'skills', 'country', 'city', 'address'])\n",
      "dict_values(['yaswanth', 'motamarri', 'male', 24, 'none', ['python', 'java', 'c#', 'c', 'c++'], 'India', 'hyderabad', '1/23 123rd street 66666'])\n"
     ]
    }
   ],
   "source": [
    "#question 2\n",
    "\n",
    "#creating empty dictonary named dog\n",
    "dog = {}\n",
    "print(dog) #print dog dictonary\n",
    "\n",
    "# adding items to dog dictonary \n",
    "dog['name']='honey'\n",
    "dog['color']='black'\n",
    "dog['breed']='husky'\n",
    "dog['legs']=4\n",
    "dog['age']=10\n",
    "\n",
    "print('dog dictonary: ',dog) #print dog dictonary\n",
    "\n",
    "#creating student dictonary\n",
    "student = {'first_name':'yaswanth', 'last_name':'motamarri', 'gender':'male', 'age':24, 'marital status':'none',\n",
    "'skills':['python','java','c#'], 'country':'India', 'city':'hyderabad', 'address':'1/23 123rd street 66666'}\n",
    "\n",
    "print('student dictonary: ',student) #print student dictonary\n",
    "\n",
    "print('length of the student dictionary: ',len(student)) #print length student dictonary\n",
    "\n",
    "print('skills in student dictonary: ',student['skills']) #print value of skills in student dictonary\n",
    "print('data type of skills in student dictonary: ',type(student['skills'])) #print data type of skills in student dictonary\n",
    "\n",
    "student['skills'].append('c') #adding elements to the skills\n",
    "student['skills'].append('c++') #adding elements to the skills\n",
    "print(student['skills']) #print value of skills in student dictonary\n",
    "\n",
    "print(student.keys()) #print keys of student dictonary\n",
    "print(student.values()) #print values of student dictonary\n",
    "\n"
   ]
  },
  {
   "cell_type": "code",
   "execution_count": 12,
   "id": "d1d86bb1",
   "metadata": {},
   "outputs": [
    {
     "name": "stdout",
     "output_type": "stream",
     "text": [
      "sisters:  ('anvi', 'bhavya', 'megana')\n",
      "brothers:  ('sai', 'srikar', 'madan')\n",
      "siblings:  ('anvi', 'bhavya', 'megana', 'sai', 'srikar', 'madan')\n",
      "number of siblings:  6\n",
      "family members:  ('anvi', 'bhavya', 'megana', 'sai', 'srikar', 'madan', 'purna', 'chandra')\n"
     ]
    }
   ],
   "source": [
    "#question 3\n",
    "\n",
    "#creating sister and brother tuples\n",
    "sisters = ('anvi','bhavya','megana')\n",
    "brothers = ('sai','srikar','madan')\n",
    "\n",
    "print('sisters: ',sisters) #print sisters tuple\n",
    "print('brothers: ',brothers) #print brothers tuple\n",
    "\n",
    "siblings = sisters+brothers #Joining brothers and sisters tuples and assigning it to siblings\n",
    "print(\"siblings: \",siblings) #print siblings tuple\n",
    "\n",
    "num = len(siblings) #counting number of siblings\n",
    "print(\"number of siblings: \",num) #print the count\n",
    "\n",
    "#Modifying the siblings tuple and adding names of father and mother and assigning it to family_members\n",
    "siblings_lst = list(siblings) # converting tuple to list\n",
    "siblings_lst.append('purna') #add father name to list\n",
    "siblings_lst.append('chandra') #add mother name to list\n",
    "siblings = tuple(siblings_lst) #converting list back to tuple\n",
    "\n",
    "family_members = siblings #assigning sibilings to family_members\n",
    "print('family members: ',family_members)"
   ]
  },
  {
   "cell_type": "code",
   "execution_count": 13,
   "id": "87af7e28",
   "metadata": {},
   "outputs": [
    {
     "name": "stdout",
     "output_type": "stream",
     "text": [
      "length of set it_companies:  7\n",
      "set it_companies:  {'Facebook', 'IBM', 'Twitter', 'Google', 'Microsoft', 'Amazon', 'Oracle', 'Apple'}\n",
      "new set it_companies:  {'Facebook', 'Amazon', 'Apple', 'Twitter', 'Oracle', 'cognizant', 'IBM', 'Google', 'infosys', 'Microsoft', 'wipro'}\n",
      "set it_companies without wipro:  {'Facebook', 'Amazon', 'Apple', 'Twitter', 'Oracle', 'cognizant', 'IBM', 'Google', 'infosys', 'Microsoft'}\n",
      "Joining sets A and B:  {19, 20, 22, 24, 25, 26, 27, 28}\n",
      "intersection of sets A and B:  {19, 20, 22, 24, 25, 26}\n",
      "A is subset of B:  True\n",
      "A, B are disjoint sets:  False\n",
      "Joining A with B : {19, 20, 22, 24, 25, 26, 27, 28}\n",
      "Joining B with A:  {19, 20, 22, 24, 25, 26, 27, 28}\n",
      "symmetirc difference:  {27, 28}\n",
      "list age:  [22, 19, 24, 25, 26, 24, 25, 24]\n",
      "set_age:  {19, 22, 24, 25, 26}\n",
      "age list length: 8 \n",
      " set age length: 5\n"
     ]
    },
    {
     "ename": "NameError",
     "evalue": "name 'it_companies' is not defined",
     "output_type": "error",
     "traceback": [
      "\u001b[1;31m---------------------------------------------------------------------------\u001b[0m",
      "\u001b[1;31mNameError\u001b[0m                                 Traceback (most recent call last)",
      "Cell \u001b[1;32mIn[13], line 54\u001b[0m\n\u001b[0;32m     52\u001b[0m \u001b[38;5;28;01mdel\u001b[39;00m A\n\u001b[0;32m     53\u001b[0m \u001b[38;5;28;01mdel\u001b[39;00m B\n\u001b[1;32m---> 54\u001b[0m \u001b[38;5;28mprint\u001b[39m(\u001b[43mit_companies\u001b[49m) \u001b[38;5;66;03m#Throws Error\u001b[39;00m\n\u001b[0;32m     55\u001b[0m \u001b[38;5;28mprint\u001b[39m(A) \u001b[38;5;66;03m#Throws Error\u001b[39;00m\n\u001b[0;32m     56\u001b[0m \u001b[38;5;28mprint\u001b[39m(B) \u001b[38;5;66;03m#Throws Error\u001b[39;00m\n",
      "\u001b[1;31mNameError\u001b[0m: name 'it_companies' is not defined"
     ]
    }
   ],
   "source": [
    "#Question 4\n",
    "\n",
    "#creating set it_companies\n",
    "it_companies = {'Facebook', 'Google', 'Microsoft', 'Apple', 'IBM', 'Oracle', 'Amazon'}\n",
    "\n",
    "#creating set A\n",
    "A = {19, 22, 24, 20, 25, 26}\n",
    "\n",
    "#creating set B\n",
    "B = {19, 22, 20, 25, 26, 24, 28, 27}\n",
    "\n",
    "#creating list age\n",
    "age = [22, 19, 24, 25, 26, 24, 25, 24]\n",
    "\n",
    "length_it_companies = len(it_companies) # length of the set it_companies\n",
    "print('length of set it_companies: ',length_it_companies) #print length of set it_companies\n",
    "\n",
    "it_companies.add(\"Twitter\") #Adding 'Twitter' to it_companies\n",
    "print('set it_companies: ',it_companies) #print set it_companies\n",
    "\n",
    "it_companies.update(['cognizant','infosys','wipro']) #Inserting multiple IT companies at once to the set it_companies\n",
    "print('new set it_companies: ',it_companies) #print new set it_companies\n",
    "\n",
    "it_companies.remove('wipro') #removing 'wipro' from the set it_companies\n",
    "print('set it_companies without wipro: ',it_companies) #print set it_companies without 'wipro'\n",
    "\n",
    "'''What is the difference between remove and discard'''\n",
    "'''-->discard() is a built in method which is used to remove a specific element from a set, if the element is not present in the set,\n",
    "it prints the original set instead of raising an error or exception.'''\n",
    "'''-->remove() is also a built in method which is used to remove a specific element from a set,but it will throw an error or \n",
    "exception if the element is not present in the set'''\n",
    "\n",
    "print('Joining sets A and B: ',A.union(B)) #Joining sets A and B\n",
    "print('intersection of sets A and B: ',A.intersection(B)) #intersection of sets A and B\n",
    "print('A is subset of B: ',A.issubset(B))#checking if A is subset of B, prints true if A is subset of B else prints false\n",
    "print('A, B are disjoint sets: ',A.isdisjoint(B))#checking if A, B are disjoint sets, prints true if A, B are disjoint sets else prints false\n",
    "\n",
    "C=A.union(B) #Joining A with B \n",
    "D=B.union(A) #Joining B with A\n",
    "print('Joining A with B :',C)\n",
    "print('Joining B with A: ',D)\n",
    "\n",
    "print('symmetirc difference: ',A.symmetric_difference(B)) #print symmetric difference between A and B\n",
    "\n",
    "set_age = set(age) # convert list to set\n",
    "print('list age: ',age) #prints list age\n",
    "print('set_age: ',set_age) #prints set_age\n",
    "print(\"age list length:\",len(age),\"\\n\",\"set age length:\",len(set_age))\n",
    "\n",
    "'''Delete sets it_companies, A, B'''\n",
    "del it_companies\n",
    "del A\n",
    "del B\n",
    "print(it_companies) #Throws Error\n",
    "print(A) #Throws Error\n",
    "print(B) #Throws Error\n",
    "\n",
    "\n"
   ]
  },
  {
   "cell_type": "code",
   "execution_count": 104,
   "id": "3182cc28",
   "metadata": {},
   "outputs": [
    {
     "name": "stdout",
     "output_type": "stream",
     "text": [
      "area of a circle is  2827.4333882308138\n",
      "circumference of a circle is 188.49555921538757\n",
      "enter radius 10\n",
      "area of a circle is  314.1592653589793\n",
      "circumference of a circle is 62.83185307179586\n"
     ]
    }
   ],
   "source": [
    "#Question 5\n",
    "\n",
    "import math\n",
    "radius = 30\n",
    "\n",
    "_area_of_circle_ = math.pi*radius*radius #area of the circle formula\n",
    "_circum_of_circle_ = 2*math.pi*radius #circumference of the circle formula\n",
    "print(\"area of a circle is \",_area_of_circle_) #print area of the circle\n",
    "print(\"circumference of a circle is\",_circum_of_circle_) #print circumference of the circle\n",
    "\n",
    "radius = input(\"enter radius \") #user input\n",
    "\n",
    "print(\"area of a circle is \",math.pi*float(radius)*float(radius)) #print area of the circle\n",
    "print(\"circumference of a circle is\",2*math.pi*float(radius)) #print circumference of the circle"
   ]
  },
  {
   "cell_type": "code",
   "execution_count": 14,
   "id": "7d07a5ae",
   "metadata": {},
   "outputs": [
    {
     "name": "stdout",
     "output_type": "stream",
     "text": [
      "['I', 'am', 'a', 'teacher', 'and', 'I', 'love', 'to', 'inspire', 'and', 'teach', 'people']\n",
      "{'inspire', 'am', 'teach', 'to', 'and', 'a', 'teacher', 'people', 'I', 'love'}\n",
      "no of unique words:  10\n"
     ]
    }
   ],
   "source": [
    "#Question 6\n",
    "\n",
    "str_1 = \"I am a teacher and I love to inspire and teach people\"\n",
    "list_str = str_1.split() # convert string to list\n",
    "print(list_str) #print the list\n",
    "\n",
    "set_str = set(list_str) #convert the list to set to get unique words\n",
    "print(set_str)\n",
    "print(\"no of unique words: \",len(set_str)) #print the length of set_str to get count of unique words used in above sentence\n"
   ]
  },
  {
   "cell_type": "code",
   "execution_count": 107,
   "id": "abc85f0d",
   "metadata": {},
   "outputs": [
    {
     "name": "stdout",
     "output_type": "stream",
     "text": [
      "Name \t\t Age \t Country \t City\n",
      "Asabeneh \t 250 \t Finland \t Helsinki\n"
     ]
    }
   ],
   "source": [
    "#Question 7\n",
    "\n",
    "#using tab escape sequence\n",
    "print('Name','\\t\\t','Age','\\t','Country','\\t','City')\n",
    "print('Asabeneh','\\t','250','\\t','Finland','\\t','Helsinki')\n"
   ]
  },
  {
   "cell_type": "code",
   "execution_count": 108,
   "id": "628af253",
   "metadata": {},
   "outputs": [
    {
     "name": "stdout",
     "output_type": "stream",
     "text": [
      "The area of a circle with radius 10 is 314 meters square.\n"
     ]
    }
   ],
   "source": [
    "#Question 8\n",
    "\n",
    "radius = 10\n",
    "area = 3.14 * radius ** 2\n",
    "\n",
    "print(\"The area of a circle with radius {0} is {1} meters square.\".format(radius,int(area)))\n",
    "\n"
   ]
  },
  {
   "cell_type": "code",
   "execution_count": 15,
   "id": "c7d8b282",
   "metadata": {},
   "outputs": [
    {
     "name": "stdout",
     "output_type": "stream",
     "text": [
      "enter no of students: 4\n",
      "150\n",
      "155\n",
      "145\n",
      "148\n",
      "[150, 155, 145, 148]\n",
      "[68.0388555, 70.30681735, 65.77089365, 67.13167076]\n"
     ]
    }
   ],
   "source": [
    "#Question 9\n",
    "\n",
    "L1 = []\n",
    "L2 = []\n",
    "N = input(\"enter no of students: \") #user input for no of students\n",
    "i=0\n",
    "\n",
    "#loop to get wights of students\n",
    "while i<int(N):\n",
    "    x=input() #user input to get weights in lb\n",
    "    L1.append(int(x)) # add the weights to list L1\n",
    "    i = i+1\n",
    "    \n",
    "print(L1) #print weights in lb\n",
    "\n",
    "# loop to convert weights to kg\n",
    "for i in L1:\n",
    "    L2.append(i*0.45359237) # add the weights to list L1\n",
    "\n",
    "print(L2) #print weights in kg\n",
    "   "
   ]
  }
 ],
 "metadata": {
  "kernelspec": {
   "display_name": "Python 3 (ipykernel)",
   "language": "python",
   "name": "python3"
  },
  "language_info": {
   "codemirror_mode": {
    "name": "ipython",
    "version": 3
   },
   "file_extension": ".py",
   "mimetype": "text/x-python",
   "name": "python",
   "nbconvert_exporter": "python",
   "pygments_lexer": "ipython3",
   "version": "3.10.9"
  }
 },
 "nbformat": 4,
 "nbformat_minor": 5
}
